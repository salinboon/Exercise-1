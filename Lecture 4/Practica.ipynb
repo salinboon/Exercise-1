{
 "cells": [
  {
   "cell_type": "code",
   "execution_count": null,
   "metadata": {},
   "outputs": [],
   "source": [
    "import pandas as pd\n",
    "import numpy as np\n",
    "# Ejercicio 1\n",
    "inicio=int(input('introduce el año inicial '))\n",
    "final=int(input('introduce el año final '))\n",
    "ventas={}\n",
    "for i in range(inicio,final+1):\n",
    "    ventas[i]=float(input(f'introduce las ventas del año {i} '))\n",
    "print(ventas)\n",
    "s=pd.Series(ventas)\n",
    "\n",
    "#Ejercicio 2\n",
    "def notas_alumnos(s):\n",
    "    Datos=[s.min(),s.max(),s.mean(),s.std()]\n",
    "    indices=['min','Max','Media','Desviacion tipica']\n",
    "    a=pd.Series(Datos,index=indices)\n",
    "    return a\n",
    "print(notas_alumnos(s))"
   ]
  },
  {
   "cell_type": "code",
   "execution_count": 1,
   "metadata": {},
   "outputs": [
    {
     "name": "stdout",
     "output_type": "stream",
     "text": [
      "10\n"
     ]
    }
   ],
   "source": [
    "#Ejercicio 3\n",
    "numero_de_alumnos=10\n",
    "numero_de_materias=\n",
    "for i in range()\n",
    "def notas_de_los_alumnos(numero_de_alumnos):\n",
    "    \n",
    "\n",
    "notas_de_los_alumnos(numero_de_alumnos)"
   ]
  }
 ],
 "metadata": {
  "kernelspec": {
   "display_name": "Python 3",
   "language": "python",
   "name": "python3"
  },
  "language_info": {
   "codemirror_mode": {
    "name": "ipython",
    "version": 3
   },
   "file_extension": ".py",
   "mimetype": "text/x-python",
   "name": "python",
   "nbconvert_exporter": "python",
   "pygments_lexer": "ipython3",
   "version": "3.12.2"
  }
 },
 "nbformat": 4,
 "nbformat_minor": 2
}
