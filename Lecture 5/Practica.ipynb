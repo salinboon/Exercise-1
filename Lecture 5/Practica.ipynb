{
 "cells": [
  {
   "cell_type": "code",
   "execution_count": 2,
   "metadata": {},
   "outputs": [],
   "source": [
    "class Estructura_pila():\n",
    "    def __init__(self):\n",
    "        self.__list = []\n",
    "    #Agregar un elemento a la pila    \n",
    "    def push(self,item):\n",
    "        self.__list.append(item)\n",
    "    #Quitar el ultimo elemento de la pila\n",
    "    def pop(self):\n",
    "        return self.__list.pop()\n",
    "    #Obtener el elemento superior de la lista \n",
    "    def peek(self):\n",
    "        if self.__list:\n",
    "            return self.__list[-1]\n",
    "        else:\n",
    "            return None\n",
    "    #Deeterminar si la pila esta vacia    \n",
    "    def is_empty(self):\n",
    "        return self.__list==[]  \n",
    "    \n",
    "    #Devolver el numero de elementos en la pila\n",
    "    def size(self):\n",
    "        return len(self.__list) "
   ]
  },
  {
   "cell_type": "code",
   "execution_count": 3,
   "metadata": {},
   "outputs": [],
   "source": [
    "pila=Estructura_pila()"
   ]
  },
  {
   "cell_type": "code",
   "execution_count": 4,
   "metadata": {},
   "outputs": [
    {
     "data": {
      "text/plain": [
       "True"
      ]
     },
     "execution_count": 4,
     "metadata": {},
     "output_type": "execute_result"
    }
   ],
   "source": [
    "pila.is_empty()"
   ]
  },
  {
   "cell_type": "code",
   "execution_count": 6,
   "metadata": {},
   "outputs": [
    {
     "data": {
      "text/plain": [
       "False"
      ]
     },
     "execution_count": 6,
     "metadata": {},
     "output_type": "execute_result"
    }
   ],
   "source": [
    "pila.push(1)\n",
    "pila.push(2)\n",
    "pila.push(3)\n",
    "pila.is_empty()\n"
   ]
  }
 ],
 "metadata": {
  "kernelspec": {
   "display_name": "Python 3",
   "language": "python",
   "name": "python3"
  },
  "language_info": {
   "codemirror_mode": {
    "name": "ipython",
    "version": 3
   },
   "file_extension": ".py",
   "mimetype": "text/x-python",
   "name": "python",
   "nbconvert_exporter": "python",
   "pygments_lexer": "ipython3",
   "version": "3.12.2"
  }
 },
 "nbformat": 4,
 "nbformat_minor": 2
}
