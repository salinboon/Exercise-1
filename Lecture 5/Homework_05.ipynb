{
 "cells": [
  {
   "cell_type": "markdown",
   "metadata": {},
   "source": [
    "# Práctica Clase 5"
   ]
  },
  {
   "cell_type": "markdown",
   "metadata": {},
   "source": [
    "1) Implementar un juego, que consista en apilar números enteros del 1 al 20, de forma aleatoria, para lo cual debe usarse una estructura de Pila. \n",
    "Luego, el usuario debe elegir un número de veces en que se va a quitar elementos de la pila, los cuales, sumados entre sí, no deben superar el valor de 50.\n",
    "El usuario pierde si la suma supera ese valor. Si no lo supera, gana, pero su calificación será 10 menos el número elementos que falten quitar para todavía no superar 50.\n",
    "El programa debe informar si perdió, y si ganó, con qué calificación lo hizo.\n",
    "\n",
    "Consideraciones:<br>\n",
    "a. Se puede usar la función input() para obtener una entrada de teclado.<br>\n",
    "b. Se puede usar la el modulo random para obtener valores aleatorios."
   ]
  },
  {
   "cell_type": "code",
   "execution_count": 29,
   "metadata": {},
   "outputs": [
    {
     "name": "stdout",
     "output_type": "stream",
     "text": [
      "Bienvenido a este juego\n",
      "La pila es [13, 18, 10, 14, 13, 4, 17, 11, 5, 10, 2, 16, 19, 8, 7, 11, 4, 16, 8, 1]\n"
     ]
    }
   ],
   "source": [
    "import numpy as np \n",
    "class juego_de_pila:\n",
    "    def __init__(self) :\n",
    "        self.numbers=list(np.random.randint(1,21,size=20))\n",
    "        self.numbers_delete=int(input('Digite el numero de elementos que se van a eliminar de la pila '))\n",
    "    \n",
    "    def elementos_eliminados(self):\n",
    "        print(self.numbers)\n",
    "        cont=0\n",
    "        lista1=[]\n",
    "        while self.numbers_delete>cont:\n",
    "            lista_=self.numbers.pop()\n",
    "            lista1.append(lista_)\n",
    "            cont+=1\n",
    "        return lista1   \n",
    "    \n",
    "    def sum_of_elements(self,s):\n",
    "        a=sum(s)\n",
    "        return a\n",
    "\n",
    "    def puntuacion_final(self,a):\n",
    "        calificacion=10\n",
    "        if a>50:\n",
    "            return 'Perdiste el juego'\n",
    "        else:\n",
    "            calificacion=calificacion-self.numbers_delete\n",
    "            return 'Ganaste el juego su calificacion es',calificacion   \n",
    "\n",
    "\n",
    "\n",
    "h=juego_de_pila()\n",
    "s=h.elementos_eliminados()\n",
    "print(s)\n",
    "a=h.sum_of_elements(s)\n",
    "print('Su puntaje es ',a)\n",
    "print(h.puntuacion_final(a))"
   ]
  },
  {
   "cell_type": "markdown",
   "metadata": {},
   "source": [
    "2) Implementar un juego donde constas de 2 jarras, de capacidad 5 y 3 litros respectivamente, y debes colocar 4 litros en la jarra de 5L.\n",
    "Las opciones posibles son:\n",
    "* Llenar la jarra de 3 litros\n",
    "* Llenar la jarra de 5 litros\n",
    "* Vaciar la jarra de 3 litros\n",
    "* Vaciar la jarra de 5 litros\n",
    "* Verter el contenido de la jarra de 3 litros en la de 5 litros\n",
    "* Verter el contenido de la jarra de 5 litros en la de 3 litros"
   ]
  },
  {
   "cell_type": "code",
   "execution_count": null,
   "metadata": {},
   "outputs": [],
   "source": []
  }
 ],
 "metadata": {
  "kernelspec": {
   "display_name": "Python 3.11.3 64-bit",
   "language": "python",
   "name": "python3"
  },
  "language_info": {
   "codemirror_mode": {
    "name": "ipython",
    "version": 3
   },
   "file_extension": ".py",
   "mimetype": "text/x-python",
   "name": "python",
   "nbconvert_exporter": "python",
   "pygments_lexer": "ipython3",
   "version": "3.12.2"
  },
  "vscode": {
   "interpreter": {
    "hash": "52634da84371cba311ea128a5ea7cdc41ff074b781779e754b270ff9f8153cee"
   }
  }
 },
 "nbformat": 4,
 "nbformat_minor": 4
}
