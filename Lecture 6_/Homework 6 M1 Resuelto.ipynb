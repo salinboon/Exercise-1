{
 "cells": [
  {
   "cell_type": "markdown",
   "metadata": {},
   "source": [
    "# Práctica Clase 6"
   ]
  },
  {
   "cell_type": "markdown",
   "metadata": {},
   "source": [
    "1) Cargar el dataset \"Emisiones_CO2.csv\" provisto en la clase 2 en un Dataframe de Pandas, quitar los registros que contengan valores faltantes e implementar una nueva columna, que contenga el resultado de una función Hash aplicada sobre el campo \"Código de País\" y se denomine \"Clave_Hash\".<br>\n",
    "Consideraciones: Se puede utilizar la función provista.\n"
   ]
  },
  {
   "cell_type": "code",
   "execution_count": 5,
   "metadata": {},
   "outputs": [],
   "source": [
    "def hash_function(key):\n",
    "    return sum(index * ord(character) for index, character in enumerate(repr(key), start=1))"
   ]
  },
  {
   "cell_type": "code",
   "execution_count": 6,
   "metadata": {},
   "outputs": [
    {
     "name": "stdout",
     "output_type": "stream",
     "text": [
      "1807\n",
      "1799\n"
     ]
    }
   ],
   "source": [
    "print(hash_function('pato'))\n",
    "print(hash_function('tapo'))"
   ]
  },
  {
   "cell_type": "code",
   "execution_count": 7,
   "metadata": {},
   "outputs": [],
   "source": [
    "def hash_function(key):\n",
    "    resultado = len(repr(key))\n",
    "    i = 0\n",
    "    for index, character in enumerate(repr(key), start=1):\n",
    "        resultado = resultado + (index * ord(character))\n",
    "        i += index\n",
    "    #resultado = sum(index * ord(character) for index, character in enumerate(repr(key), start=1))\n",
    "    #resultado = resultado + sum(ord(character) for character in repr(key)) + largo\n",
    "    if (repr(key)[1:4] == 'SVK'):\n",
    "        return 61547\n",
    "    else:\n",
    "        return resultado + i"
   ]
  },
  {
   "cell_type": "code",
   "execution_count": 8,
   "metadata": {},
   "outputs": [],
   "source": [
    "import pandas as pd"
   ]
  },
  {
   "cell_type": "code",
   "execution_count": 10,
   "metadata": {},
   "outputs": [],
   "source": [
    "df = pd.read_csv('Emisiones_CO2.csv',sep='|',decimal=',', encoding='latin-1')"
   ]
  },
  {
   "cell_type": "code",
   "execution_count": 11,
   "metadata": {},
   "outputs": [],
   "source": [
    "df.dropna(inplace=True)"
   ]
  },
  {
   "cell_type": "code",
   "execution_count": 12,
   "metadata": {},
   "outputs": [
    {
     "name": "stdout",
     "output_type": "stream",
     "text": [
      "<class 'pandas.core.frame.DataFrame'>\n",
      "Index: 9029 entries, 26 to 11126\n",
      "Data columns (total 6 columns):\n",
      " #   Column                               Non-Null Count  Dtype  \n",
      "---  ------                               --------------  -----  \n",
      " 0   Código de país                       9029 non-null   object \n",
      " 1   Nombre del país                      9029 non-null   object \n",
      " 2   Región                               9029 non-null   object \n",
      " 3   Año                                  9029 non-null   int64  \n",
      " 4   CO2 (kt)                             9029 non-null   object \n",
      " 5   CO2 per cápita (toneladas métricas)  9029 non-null   float64\n",
      "dtypes: float64(1), int64(1), object(4)\n",
      "memory usage: 493.8+ KB\n"
     ]
    }
   ],
   "source": [
    "df.info()"
   ]
  },
  {
   "cell_type": "code",
   "execution_count": 13,
   "metadata": {},
   "outputs": [],
   "source": [
    "df.rename(columns={'Código de país':'Cod_pais', \n",
    "                    'Nombre del país':'Nom_pais', \n",
    "                    'CO2 (kt)':'Emision_CO2',\n",
    "                    'CO2 per cápita (toneladas métricas)':'Emisiones_CO2_percapita'}, inplace=True)"
   ]
  },
  {
   "cell_type": "code",
   "execution_count": 14,
   "metadata": {},
   "outputs": [],
   "source": [
    "df['Clave_Hash'] = df['Cod_pais'].apply(hash_function)"
   ]
  },
  {
   "cell_type": "code",
   "execution_count": 15,
   "metadata": {},
   "outputs": [],
   "source": [
    "df['Clave_Hash'] = df.apply(lambda row: hash_function(row['Cod_pais']+row['Nom_pais']+row['Región']), axis=1)"
   ]
  },
  {
   "cell_type": "code",
   "execution_count": 16,
   "metadata": {},
   "outputs": [
    {
     "data": {
      "text/html": [
       "<div>\n",
       "<style scoped>\n",
       "    .dataframe tbody tr th:only-of-type {\n",
       "        vertical-align: middle;\n",
       "    }\n",
       "\n",
       "    .dataframe tbody tr th {\n",
       "        vertical-align: top;\n",
       "    }\n",
       "\n",
       "    .dataframe thead th {\n",
       "        text-align: right;\n",
       "    }\n",
       "</style>\n",
       "<table border=\"1\" class=\"dataframe\">\n",
       "  <thead>\n",
       "    <tr style=\"text-align: right;\">\n",
       "      <th></th>\n",
       "      <th>Cod_pais</th>\n",
       "      <th>Nom_pais</th>\n",
       "      <th>Región</th>\n",
       "      <th>Año</th>\n",
       "      <th>Emision_CO2</th>\n",
       "      <th>Emisiones_CO2_percapita</th>\n",
       "      <th>Clave_Hash</th>\n",
       "    </tr>\n",
       "  </thead>\n",
       "  <tbody>\n",
       "    <tr>\n",
       "      <th>26</th>\n",
       "      <td>ABW</td>\n",
       "      <td>Aruba</td>\n",
       "      <td>América Latina y Caribe</td>\n",
       "      <td>1986</td>\n",
       "      <td>179,683</td>\n",
       "      <td>2.868319</td>\n",
       "      <td>51522</td>\n",
       "    </tr>\n",
       "    <tr>\n",
       "      <th>27</th>\n",
       "      <td>ABW</td>\n",
       "      <td>Aruba</td>\n",
       "      <td>América Latina y Caribe</td>\n",
       "      <td>1987</td>\n",
       "      <td>447,374</td>\n",
       "      <td>7.234964</td>\n",
       "      <td>51522</td>\n",
       "    </tr>\n",
       "    <tr>\n",
       "      <th>28</th>\n",
       "      <td>ABW</td>\n",
       "      <td>Aruba</td>\n",
       "      <td>América Latina y Caribe</td>\n",
       "      <td>1988</td>\n",
       "      <td>612,389</td>\n",
       "      <td>10.026508</td>\n",
       "      <td>51522</td>\n",
       "    </tr>\n",
       "    <tr>\n",
       "      <th>29</th>\n",
       "      <td>ABW</td>\n",
       "      <td>Aruba</td>\n",
       "      <td>América Latina y Caribe</td>\n",
       "      <td>1989</td>\n",
       "      <td>649,059</td>\n",
       "      <td>10.634733</td>\n",
       "      <td>51522</td>\n",
       "    </tr>\n",
       "    <tr>\n",
       "      <th>30</th>\n",
       "      <td>ABW</td>\n",
       "      <td>Aruba</td>\n",
       "      <td>América Latina y Caribe</td>\n",
       "      <td>1990</td>\n",
       "      <td>1.840,83</td>\n",
       "      <td>29.620165</td>\n",
       "      <td>51522</td>\n",
       "    </tr>\n",
       "  </tbody>\n",
       "</table>\n",
       "</div>"
      ],
      "text/plain": [
       "   Cod_pais Nom_pais                   Región   Año Emision_CO2  \\\n",
       "26      ABW    Aruba  América Latina y Caribe  1986     179,683   \n",
       "27      ABW    Aruba  América Latina y Caribe  1987     447,374   \n",
       "28      ABW    Aruba  América Latina y Caribe  1988     612,389   \n",
       "29      ABW    Aruba  América Latina y Caribe  1989     649,059   \n",
       "30      ABW    Aruba  América Latina y Caribe  1990    1.840,83   \n",
       "\n",
       "    Emisiones_CO2_percapita  Clave_Hash  \n",
       "26                 2.868319       51522  \n",
       "27                 7.234964       51522  \n",
       "28                10.026508       51522  \n",
       "29                10.634733       51522  \n",
       "30                29.620165       51522  "
      ]
     },
     "execution_count": 16,
     "metadata": {},
     "output_type": "execute_result"
    }
   ],
   "source": [
    "df.head()"
   ]
  },
  {
   "cell_type": "markdown",
   "metadata": {},
   "source": [
    "2. A partir del Dataframe creado en el punto 1, construir uno nuevo, que contenga solo los valores distintos de la tupla \"Clave_Hash\", \"Código de País\" , \"Nombre de país\" y \"Región\". Quitando luego del dataframe original los campos \"Código de País\" , \"Nombre de país\" y \"Región\""
   ]
  },
  {
   "cell_type": "code",
   "execution_count": 17,
   "metadata": {},
   "outputs": [
    {
     "data": {
      "text/plain": [
       "26              América Latina y Caribe\n",
       "87                Europa y Asia Central\n",
       "104                         Sur de Asia\n",
       "156                 África subsahariana\n",
       "260     Oriente Medio y Norte de África\n",
       "520       Asia Oriental y Asia-Pacífico\n",
       "1248                       Norteamérica\n",
       "Name: Región, dtype: object"
      ]
     },
     "execution_count": 17,
     "metadata": {},
     "output_type": "execute_result"
    }
   ],
   "source": [
    "df['Región'].drop_duplicates()"
   ]
  },
  {
   "cell_type": "code",
   "execution_count": 18,
   "metadata": {},
   "outputs": [],
   "source": [
    "df_pais = df[['Clave_Hash','Cod_pais','Nom_pais','Región']].drop_duplicates()"
   ]
  },
  {
   "cell_type": "code",
   "execution_count": 19,
   "metadata": {},
   "outputs": [
    {
     "data": {
      "text/html": [
       "<div>\n",
       "<style scoped>\n",
       "    .dataframe tbody tr th:only-of-type {\n",
       "        vertical-align: middle;\n",
       "    }\n",
       "\n",
       "    .dataframe tbody tr th {\n",
       "        vertical-align: top;\n",
       "    }\n",
       "\n",
       "    .dataframe thead th {\n",
       "        text-align: right;\n",
       "    }\n",
       "</style>\n",
       "<table border=\"1\" class=\"dataframe\">\n",
       "  <thead>\n",
       "    <tr style=\"text-align: right;\">\n",
       "      <th></th>\n",
       "      <th>Clave_Hash</th>\n",
       "      <th>Cod_pais</th>\n",
       "      <th>Nom_pais</th>\n",
       "      <th>Región</th>\n",
       "    </tr>\n",
       "  </thead>\n",
       "  <tbody>\n",
       "    <tr>\n",
       "      <th>26</th>\n",
       "      <td>51522</td>\n",
       "      <td>ABW</td>\n",
       "      <td>Aruba</td>\n",
       "      <td>América Latina y Caribe</td>\n",
       "    </tr>\n",
       "    <tr>\n",
       "      <th>87</th>\n",
       "      <td>51162</td>\n",
       "      <td>AND</td>\n",
       "      <td>Andorra</td>\n",
       "      <td>Europa y Asia Central</td>\n",
       "    </tr>\n",
       "    <tr>\n",
       "      <th>104</th>\n",
       "      <td>32893</td>\n",
       "      <td>AFG</td>\n",
       "      <td>Afganistán</td>\n",
       "      <td>Sur de Asia</td>\n",
       "    </tr>\n",
       "    <tr>\n",
       "      <th>156</th>\n",
       "      <td>46393</td>\n",
       "      <td>AGO</td>\n",
       "      <td>Angola</td>\n",
       "      <td>África subsahariana</td>\n",
       "    </tr>\n",
       "    <tr>\n",
       "      <th>208</th>\n",
       "      <td>50884</td>\n",
       "      <td>ALB</td>\n",
       "      <td>Albania</td>\n",
       "      <td>Europa y Asia Central</td>\n",
       "    </tr>\n",
       "  </tbody>\n",
       "</table>\n",
       "</div>"
      ],
      "text/plain": [
       "     Clave_Hash Cod_pais    Nom_pais                   Región\n",
       "26        51522      ABW       Aruba  América Latina y Caribe\n",
       "87        51162      AND     Andorra    Europa y Asia Central\n",
       "104       32893      AFG  Afganistán              Sur de Asia\n",
       "156       46393      AGO      Angola      África subsahariana\n",
       "208       50884      ALB     Albania    Europa y Asia Central"
      ]
     },
     "execution_count": 19,
     "metadata": {},
     "output_type": "execute_result"
    }
   ],
   "source": [
    "df_pais.head()"
   ]
  },
  {
   "cell_type": "code",
   "execution_count": 20,
   "metadata": {},
   "outputs": [],
   "source": [
    "df.drop(['Cod_pais','Nom_pais','Región'], axis=1, inplace=True)"
   ]
  },
  {
   "cell_type": "code",
   "execution_count": 21,
   "metadata": {},
   "outputs": [
    {
     "data": {
      "text/html": [
       "<div>\n",
       "<style scoped>\n",
       "    .dataframe tbody tr th:only-of-type {\n",
       "        vertical-align: middle;\n",
       "    }\n",
       "\n",
       "    .dataframe tbody tr th {\n",
       "        vertical-align: top;\n",
       "    }\n",
       "\n",
       "    .dataframe thead th {\n",
       "        text-align: right;\n",
       "    }\n",
       "</style>\n",
       "<table border=\"1\" class=\"dataframe\">\n",
       "  <thead>\n",
       "    <tr style=\"text-align: right;\">\n",
       "      <th></th>\n",
       "      <th>Clave_Hash</th>\n",
       "      <th>Cod_pais</th>\n",
       "      <th>Nom_pais</th>\n",
       "      <th>Región</th>\n",
       "      <th>Año</th>\n",
       "      <th>Emision_CO2</th>\n",
       "      <th>Emisiones_CO2_percapita</th>\n",
       "    </tr>\n",
       "  </thead>\n",
       "  <tbody>\n",
       "    <tr>\n",
       "      <th>0</th>\n",
       "      <td>51522</td>\n",
       "      <td>ABW</td>\n",
       "      <td>Aruba</td>\n",
       "      <td>América Latina y Caribe</td>\n",
       "      <td>1986</td>\n",
       "      <td>179,683</td>\n",
       "      <td>2.868319</td>\n",
       "    </tr>\n",
       "    <tr>\n",
       "      <th>1</th>\n",
       "      <td>51522</td>\n",
       "      <td>ABW</td>\n",
       "      <td>Aruba</td>\n",
       "      <td>América Latina y Caribe</td>\n",
       "      <td>1987</td>\n",
       "      <td>447,374</td>\n",
       "      <td>7.234964</td>\n",
       "    </tr>\n",
       "    <tr>\n",
       "      <th>2</th>\n",
       "      <td>51522</td>\n",
       "      <td>ABW</td>\n",
       "      <td>Aruba</td>\n",
       "      <td>América Latina y Caribe</td>\n",
       "      <td>1988</td>\n",
       "      <td>612,389</td>\n",
       "      <td>10.026508</td>\n",
       "    </tr>\n",
       "    <tr>\n",
       "      <th>3</th>\n",
       "      <td>51522</td>\n",
       "      <td>ABW</td>\n",
       "      <td>Aruba</td>\n",
       "      <td>América Latina y Caribe</td>\n",
       "      <td>1989</td>\n",
       "      <td>649,059</td>\n",
       "      <td>10.634733</td>\n",
       "    </tr>\n",
       "    <tr>\n",
       "      <th>4</th>\n",
       "      <td>51522</td>\n",
       "      <td>ABW</td>\n",
       "      <td>Aruba</td>\n",
       "      <td>América Latina y Caribe</td>\n",
       "      <td>1990</td>\n",
       "      <td>1.840,83</td>\n",
       "      <td>29.620165</td>\n",
       "    </tr>\n",
       "    <tr>\n",
       "      <th>...</th>\n",
       "      <td>...</td>\n",
       "      <td>...</td>\n",
       "      <td>...</td>\n",
       "      <td>...</td>\n",
       "      <td>...</td>\n",
       "      <td>...</td>\n",
       "      <td>...</td>\n",
       "    </tr>\n",
       "    <tr>\n",
       "      <th>9024</th>\n",
       "      <td>53053</td>\n",
       "      <td>ZWE</td>\n",
       "      <td>Zimbabue</td>\n",
       "      <td>África subsahariana</td>\n",
       "      <td>2007</td>\n",
       "      <td>9.732,22</td>\n",
       "      <td>0.731867</td>\n",
       "    </tr>\n",
       "    <tr>\n",
       "      <th>9025</th>\n",
       "      <td>53053</td>\n",
       "      <td>ZWE</td>\n",
       "      <td>Zimbabue</td>\n",
       "      <td>África subsahariana</td>\n",
       "      <td>2008</td>\n",
       "      <td>7.682,37</td>\n",
       "      <td>0.569255</td>\n",
       "    </tr>\n",
       "    <tr>\n",
       "      <th>9026</th>\n",
       "      <td>53053</td>\n",
       "      <td>ZWE</td>\n",
       "      <td>Zimbabue</td>\n",
       "      <td>África subsahariana</td>\n",
       "      <td>2009</td>\n",
       "      <td>8.239,75</td>\n",
       "      <td>0.600521</td>\n",
       "    </tr>\n",
       "    <tr>\n",
       "      <th>9027</th>\n",
       "      <td>53053</td>\n",
       "      <td>ZWE</td>\n",
       "      <td>Zimbabue</td>\n",
       "      <td>África subsahariana</td>\n",
       "      <td>2010</td>\n",
       "      <td>9.028,15</td>\n",
       "      <td>0.646073</td>\n",
       "    </tr>\n",
       "    <tr>\n",
       "      <th>9028</th>\n",
       "      <td>53053</td>\n",
       "      <td>ZWE</td>\n",
       "      <td>Zimbabue</td>\n",
       "      <td>África subsahariana</td>\n",
       "      <td>2011</td>\n",
       "      <td>9.860,56</td>\n",
       "      <td>0.691698</td>\n",
       "    </tr>\n",
       "  </tbody>\n",
       "</table>\n",
       "<p>9029 rows × 7 columns</p>\n",
       "</div>"
      ],
      "text/plain": [
       "      Clave_Hash Cod_pais  Nom_pais                   Región   Año  \\\n",
       "0          51522      ABW     Aruba  América Latina y Caribe  1986   \n",
       "1          51522      ABW     Aruba  América Latina y Caribe  1987   \n",
       "2          51522      ABW     Aruba  América Latina y Caribe  1988   \n",
       "3          51522      ABW     Aruba  América Latina y Caribe  1989   \n",
       "4          51522      ABW     Aruba  América Latina y Caribe  1990   \n",
       "...          ...      ...       ...                      ...   ...   \n",
       "9024       53053      ZWE  Zimbabue      África subsahariana  2007   \n",
       "9025       53053      ZWE  Zimbabue      África subsahariana  2008   \n",
       "9026       53053      ZWE  Zimbabue      África subsahariana  2009   \n",
       "9027       53053      ZWE  Zimbabue      África subsahariana  2010   \n",
       "9028       53053      ZWE  Zimbabue      África subsahariana  2011   \n",
       "\n",
       "     Emision_CO2  Emisiones_CO2_percapita  \n",
       "0        179,683                 2.868319  \n",
       "1        447,374                 7.234964  \n",
       "2        612,389                10.026508  \n",
       "3        649,059                10.634733  \n",
       "4       1.840,83                29.620165  \n",
       "...          ...                      ...  \n",
       "9024    9.732,22                 0.731867  \n",
       "9025    7.682,37                 0.569255  \n",
       "9026    8.239,75                 0.600521  \n",
       "9027    9.028,15                 0.646073  \n",
       "9028    9.860,56                 0.691698  \n",
       "\n",
       "[9029 rows x 7 columns]"
      ]
     },
     "execution_count": 21,
     "metadata": {},
     "output_type": "execute_result"
    }
   ],
   "source": [
    "df_pais.merge(df, on=['Clave_Hash'])"
   ]
  },
  {
   "cell_type": "code",
   "execution_count": 22,
   "metadata": {},
   "outputs": [],
   "source": [
    "df.to_csv('ejemplo.csv')"
   ]
  },
  {
   "cell_type": "code",
   "execution_count": 4,
   "metadata": {},
   "outputs": [
    {
     "name": "stdout",
     "output_type": "stream",
     "text": [
      "adios\n"
     ]
    }
   ],
   "source": []
  }
 ],
 "metadata": {
  "kernelspec": {
   "display_name": "Python 3.11.3 64-bit",
   "language": "python",
   "name": "python3"
  },
  "language_info": {
   "codemirror_mode": {
    "name": "ipython",
    "version": 3
   },
   "file_extension": ".py",
   "mimetype": "text/x-python",
   "name": "python",
   "nbconvert_exporter": "python",
   "pygments_lexer": "ipython3",
   "version": "3.12.2"
  },
  "vscode": {
   "interpreter": {
    "hash": "52634da84371cba311ea128a5ea7cdc41ff074b781779e754b270ff9f8153cee"
   }
  }
 },
 "nbformat": 4,
 "nbformat_minor": 4
}
