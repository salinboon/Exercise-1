{
 "cells": [
  {
   "cell_type": "markdown",
   "metadata": {},
   "source": [
    "1) Abrir el archivo \"Emisiones_CO2.csv\" y cargar sus datos en un diccionario."
   ]
  },
  {
   "cell_type": "code",
   "execution_count": 29,
   "metadata": {},
   "outputs": [],
   "source": [
    "import os\n",
    "archivo = open('Emisiones_CO2.csv', 'r', encoding='latin-1')"
   ]
  },
  {
   "cell_type": "code",
   "execution_count": 30,
   "metadata": {},
   "outputs": [],
   "source": [
    "dicc_emisiones = {  'cod_pais' : [],\n",
    "                    'nom_pais' : [],\n",
    "                    'region' : [],\n",
    "                    'anio' : [],\n",
    "                    'co2' : [],\n",
    "                    'co2_percapita' : []}"
   ]
  },
  {
   "cell_type": "code",
   "execution_count": 31,
   "metadata": {},
   "outputs": [],
   "source": [
    "# Opción 1\n",
    "next(archivo)\n",
    "for linea in archivo:\n",
    "    linea = linea.strip()\n",
    "    campos = linea.split('|')\n",
    "    dicc_emisiones['cod_pais'].append(campos[0])\n",
    "    dicc_emisiones['nom_pais'].append(campos[1])\n",
    "    dicc_emisiones['region'].append(campos[2])\n",
    "    dicc_emisiones['anio'].append(campos[3])\n",
    "    dicc_emisiones['co2'].append(campos[4])\n",
    "    dicc_emisiones['co2_percapita'].append(campos[5])"
   ]
  },
  {
   "cell_type": "code",
   "execution_count": 32,
   "metadata": {},
   "outputs": [],
   "source": [
    "# Opción 2\n",
    "encabezado = True\n",
    "for linea in archivo:\n",
    "    if (not encabezado):\n",
    "        campos = linea.split(sep='|')\n",
    "        dicc_emisiones['cod_pais'].append(campos[0])\n",
    "        dicc_emisiones['nom_pais'].append(campos[1])\n",
    "        dicc_emisiones['region'].append(campos[2])\n",
    "        dicc_emisiones['anio'].append(campos[3])\n",
    "        dicc_emisiones['co2'].append(campos[4])\n",
    "        dicc_emisiones['co2_percapita'].append(campos[5])\n",
    "    else:\n",
    "        encabezado = False"
   ]
  },
  {
   "cell_type": "code",
   "execution_count": 33,
   "metadata": {},
   "outputs": [],
   "source": [
    "archivo.close()"
   ]
  },
  {
   "cell_type": "markdown",
   "metadata": {},
   "source": [
    "2) a) ¿Cuántas variables hay? <br>\n",
    "b) ¿Qué tipos de datos usar para cada una? <br>\n",
    "c) ¿Qué tipo de variables son? <br>\n",
    "d) ¿Hay valores faltantes? <br>\n",
    "e) ¿Cuál es el total de emisiones de CO2 para 'América Latina y Caribe' en el año 2010?"
   ]
  },
  {
   "cell_type": "code",
   "execution_count": 34,
   "metadata": {},
   "outputs": [
    {
     "name": "stdout",
     "output_type": "stream",
     "text": [
      "115\n",
      "AFG\n",
      "Afganistán\n",
      "Sur de Asia\n",
      "1971\n",
      "1.895,84\n",
      "0,166114846\n"
     ]
    }
   ],
   "source": [
    "i = 115\n",
    "print(i)\n",
    "print(dicc_emisiones['cod_pais'][i])\n",
    "print(dicc_emisiones['nom_pais'][i])\n",
    "print(dicc_emisiones['region'][i])\n",
    "print(dicc_emisiones['anio'][i])\n",
    "print(dicc_emisiones['co2'][i])\n",
    "print(dicc_emisiones['co2_percapita'][i])"
   ]
  },
  {
   "cell_type": "code",
   "execution_count": 38,
   "metadata": {},
   "outputs": [
    {
     "ename": "AttributeError",
     "evalue": "'NoneType' object has no attribute 'replace'",
     "output_type": "error",
     "traceback": [
      "\u001b[1;31m---------------------------------------------------------------------------\u001b[0m",
      "\u001b[1;31mAttributeError\u001b[0m                            Traceback (most recent call last)",
      "Cell \u001b[1;32mIn[38], line 2\u001b[0m\n\u001b[0;32m      1\u001b[0m \u001b[38;5;28;01mfor\u001b[39;00m indice, elemento \u001b[38;5;129;01min\u001b[39;00m \u001b[38;5;28menumerate\u001b[39m(dicc_emisiones[\u001b[38;5;124m'\u001b[39m\u001b[38;5;124mco2\u001b[39m\u001b[38;5;124m'\u001b[39m]):\n\u001b[1;32m----> 2\u001b[0m     elemento \u001b[38;5;241m=\u001b[39m \u001b[43melemento\u001b[49m\u001b[38;5;241;43m.\u001b[39;49m\u001b[43mreplace\u001b[49m(\u001b[38;5;124m'\u001b[39m\u001b[38;5;124m.\u001b[39m\u001b[38;5;124m'\u001b[39m,\u001b[38;5;124m'\u001b[39m\u001b[38;5;124m'\u001b[39m)\n\u001b[0;32m      3\u001b[0m     elemento \u001b[38;5;241m=\u001b[39m elemento\u001b[38;5;241m.\u001b[39mreplace(\u001b[38;5;124m'\u001b[39m\u001b[38;5;124m,\u001b[39m\u001b[38;5;124m'\u001b[39m,\u001b[38;5;124m'\u001b[39m\u001b[38;5;124m.\u001b[39m\u001b[38;5;124m'\u001b[39m)\n\u001b[0;32m      4\u001b[0m     \u001b[38;5;28;01mif\u001b[39;00m (elemento \u001b[38;5;241m!=\u001b[39m \u001b[38;5;124m'\u001b[39m\u001b[38;5;124m'\u001b[39m):\n",
      "\u001b[1;31mAttributeError\u001b[0m: 'NoneType' object has no attribute 'replace'"
     ]
    }
   ],
   "source": [
    "for indice, elemento in enumerate(dicc_emisiones['co2']):\n",
    "    elemento = elemento.replace('.','')\n",
    "    elemento = elemento.replace(',','.')\n",
    "    if (elemento != ''):\n",
    "        elemento = float(elemento)\n",
    "    else:\n",
    "        elemento = None\n",
    "    dicc_emisiones['co2'][indice] = elemento"
   ]
  },
  {
   "cell_type": "code",
   "execution_count": 36,
   "metadata": {},
   "outputs": [],
   "source": [
    "for indice, elemento in enumerate(dicc_emisiones['co2_percapita']):\n",
    "    elemento = elemento.replace('\\n','')\n",
    "    elemento = elemento.replace('.','')\n",
    "    elemento = elemento.replace(',','.')\n",
    "    if (elemento != ''):\n",
    "        elemento = float(elemento)\n",
    "    else:\n",
    "        elemento = None\n",
    "    dicc_emisiones['co2_percapita'][indice] = elemento"
   ]
  },
  {
   "cell_type": "code",
   "execution_count": 28,
   "metadata": {},
   "outputs": [
    {
     "name": "stdout",
     "output_type": "stream",
     "text": [
      "Las emisiones en América Latina y Caribe en 2010 fueron de 1691634.8009999995 kt\n"
     ]
    }
   ],
   "source": [
    "filtro_region = 'América Latina y Caribe'\n",
    "filtro_anio = '2010'\n",
    "emisiones = 0\n",
    "for indice, elemento in enumerate(dicc_emisiones['region']):\n",
    "    if (dicc_emisiones['region'][indice] == filtro_region):\n",
    "        if (dicc_emisiones['anio'][indice] == filtro_anio):\n",
    "            if (dicc_emisiones['co2'][indice] != None):\n",
    "                emisiones += dicc_emisiones['co2'][indice]\n",
    "print('Las emisiones en', filtro_region, 'en', filtro_anio, 'fueron de',emisiones,'kt')"
   ]
  }
 ],
 "metadata": {
  "kernelspec": {
   "display_name": "Python 3.11.3 64-bit",
   "language": "python",
   "name": "python3"
  },
  "language_info": {
   "codemirror_mode": {
    "name": "ipython",
    "version": 3
   },
   "file_extension": ".py",
   "mimetype": "text/x-python",
   "name": "python",
   "nbconvert_exporter": "python",
   "pygments_lexer": "ipython3",
   "version": "3.12.2"
  },
  "orig_nbformat": 4,
  "vscode": {
   "interpreter": {
    "hash": "52634da84371cba311ea128a5ea7cdc41ff074b781779e754b270ff9f8153cee"
   }
  }
 },
 "nbformat": 4,
 "nbformat_minor": 2
}
