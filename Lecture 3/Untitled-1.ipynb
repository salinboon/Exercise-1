{
 "cells": [
  {
   "cell_type": "code",
   "execution_count": 1,
   "metadata": {},
   "outputs": [],
   "source": [
    "class Estructura_pila():\n",
    "    def __init__(self):\n",
    "        self.__list=[]\n",
    "    #Agregar un elemnto a la pila\n",
    "    def push(self,item):\n",
    "        self.__list.append(item)\n",
    "    #Quitar el ultimo elemnto de la pila\n",
    "    def pop(self,item):\n",
    "       return self.__list.pop()\n",
    "    #Obetener el elemnto superior de la lista\n",
    "    def peek(self):\n",
    "        if self.__list:\n",
    "            return self.__list[-1]\n",
    "        else:\n",
    "            return None\n",
    "\n",
    "    def is_empty(self):\n",
    "        return self.__list==[] "
   ]
  }
 ],
 "metadata": {
  "language_info": {
   "name": "python"
  }
 },
 "nbformat": 4,
 "nbformat_minor": 2
}
